{
  "nbformat": 4,
  "nbformat_minor": 0,
  "metadata": {
    "colab": {
      "provenance": []
    },
    "kernelspec": {
      "name": "python3",
      "display_name": "Python 3"
    },
    "language_info": {
      "name": "python"
    }
  },
  "cells": [
    {
      "cell_type": "code",
      "source": [
        "from google.colab import files\n",
        "\n",
        "\n",
        "uploaded = files.upload()"
      ],
      "metadata": {
        "colab": {
          "base_uri": "https://localhost:8080/",
          "height": 73
        },
        "id": "Iz7jcLqXNGCP",
        "outputId": "3862c863-8fd0-4551-d030-aef714851927"
      },
      "execution_count": null,
      "outputs": [
        {
          "output_type": "display_data",
          "data": {
            "text/plain": [
              "<IPython.core.display.HTML object>"
            ],
            "text/html": [
              "\n",
              "     <input type=\"file\" id=\"files-79bd6b3e-9d48-4a3e-be5d-74723de4d648\" name=\"files[]\" multiple disabled\n",
              "        style=\"border:none\" />\n",
              "     <output id=\"result-79bd6b3e-9d48-4a3e-be5d-74723de4d648\">\n",
              "      Upload widget is only available when the cell has been executed in the\n",
              "      current browser session. Please rerun this cell to enable.\n",
              "      </output>\n",
              "      <script>// Copyright 2017 Google LLC\n",
              "//\n",
              "// Licensed under the Apache License, Version 2.0 (the \"License\");\n",
              "// you may not use this file except in compliance with the License.\n",
              "// You may obtain a copy of the License at\n",
              "//\n",
              "//      http://www.apache.org/licenses/LICENSE-2.0\n",
              "//\n",
              "// Unless required by applicable law or agreed to in writing, software\n",
              "// distributed under the License is distributed on an \"AS IS\" BASIS,\n",
              "// WITHOUT WARRANTIES OR CONDITIONS OF ANY KIND, either express or implied.\n",
              "// See the License for the specific language governing permissions and\n",
              "// limitations under the License.\n",
              "\n",
              "/**\n",
              " * @fileoverview Helpers for google.colab Python module.\n",
              " */\n",
              "(function(scope) {\n",
              "function span(text, styleAttributes = {}) {\n",
              "  const element = document.createElement('span');\n",
              "  element.textContent = text;\n",
              "  for (const key of Object.keys(styleAttributes)) {\n",
              "    element.style[key] = styleAttributes[key];\n",
              "  }\n",
              "  return element;\n",
              "}\n",
              "\n",
              "// Max number of bytes which will be uploaded at a time.\n",
              "const MAX_PAYLOAD_SIZE = 100 * 1024;\n",
              "\n",
              "function _uploadFiles(inputId, outputId) {\n",
              "  const steps = uploadFilesStep(inputId, outputId);\n",
              "  const outputElement = document.getElementById(outputId);\n",
              "  // Cache steps on the outputElement to make it available for the next call\n",
              "  // to uploadFilesContinue from Python.\n",
              "  outputElement.steps = steps;\n",
              "\n",
              "  return _uploadFilesContinue(outputId);\n",
              "}\n",
              "\n",
              "// This is roughly an async generator (not supported in the browser yet),\n",
              "// where there are multiple asynchronous steps and the Python side is going\n",
              "// to poll for completion of each step.\n",
              "// This uses a Promise to block the python side on completion of each step,\n",
              "// then passes the result of the previous step as the input to the next step.\n",
              "function _uploadFilesContinue(outputId) {\n",
              "  const outputElement = document.getElementById(outputId);\n",
              "  const steps = outputElement.steps;\n",
              "\n",
              "  const next = steps.next(outputElement.lastPromiseValue);\n",
              "  return Promise.resolve(next.value.promise).then((value) => {\n",
              "    // Cache the last promise value to make it available to the next\n",
              "    // step of the generator.\n",
              "    outputElement.lastPromiseValue = value;\n",
              "    return next.value.response;\n",
              "  });\n",
              "}\n",
              "\n",
              "/**\n",
              " * Generator function which is called between each async step of the upload\n",
              " * process.\n",
              " * @param {string} inputId Element ID of the input file picker element.\n",
              " * @param {string} outputId Element ID of the output display.\n",
              " * @return {!Iterable<!Object>} Iterable of next steps.\n",
              " */\n",
              "function* uploadFilesStep(inputId, outputId) {\n",
              "  const inputElement = document.getElementById(inputId);\n",
              "  inputElement.disabled = false;\n",
              "\n",
              "  const outputElement = document.getElementById(outputId);\n",
              "  outputElement.innerHTML = '';\n",
              "\n",
              "  const pickedPromise = new Promise((resolve) => {\n",
              "    inputElement.addEventListener('change', (e) => {\n",
              "      resolve(e.target.files);\n",
              "    });\n",
              "  });\n",
              "\n",
              "  const cancel = document.createElement('button');\n",
              "  inputElement.parentElement.appendChild(cancel);\n",
              "  cancel.textContent = 'Cancel upload';\n",
              "  const cancelPromise = new Promise((resolve) => {\n",
              "    cancel.onclick = () => {\n",
              "      resolve(null);\n",
              "    };\n",
              "  });\n",
              "\n",
              "  // Wait for the user to pick the files.\n",
              "  const files = yield {\n",
              "    promise: Promise.race([pickedPromise, cancelPromise]),\n",
              "    response: {\n",
              "      action: 'starting',\n",
              "    }\n",
              "  };\n",
              "\n",
              "  cancel.remove();\n",
              "\n",
              "  // Disable the input element since further picks are not allowed.\n",
              "  inputElement.disabled = true;\n",
              "\n",
              "  if (!files) {\n",
              "    return {\n",
              "      response: {\n",
              "        action: 'complete',\n",
              "      }\n",
              "    };\n",
              "  }\n",
              "\n",
              "  for (const file of files) {\n",
              "    const li = document.createElement('li');\n",
              "    li.append(span(file.name, {fontWeight: 'bold'}));\n",
              "    li.append(span(\n",
              "        `(${file.type || 'n/a'}) - ${file.size} bytes, ` +\n",
              "        `last modified: ${\n",
              "            file.lastModifiedDate ? file.lastModifiedDate.toLocaleDateString() :\n",
              "                                    'n/a'} - `));\n",
              "    const percent = span('0% done');\n",
              "    li.appendChild(percent);\n",
              "\n",
              "    outputElement.appendChild(li);\n",
              "\n",
              "    const fileDataPromise = new Promise((resolve) => {\n",
              "      const reader = new FileReader();\n",
              "      reader.onload = (e) => {\n",
              "        resolve(e.target.result);\n",
              "      };\n",
              "      reader.readAsArrayBuffer(file);\n",
              "    });\n",
              "    // Wait for the data to be ready.\n",
              "    let fileData = yield {\n",
              "      promise: fileDataPromise,\n",
              "      response: {\n",
              "        action: 'continue',\n",
              "      }\n",
              "    };\n",
              "\n",
              "    // Use a chunked sending to avoid message size limits. See b/62115660.\n",
              "    let position = 0;\n",
              "    do {\n",
              "      const length = Math.min(fileData.byteLength - position, MAX_PAYLOAD_SIZE);\n",
              "      const chunk = new Uint8Array(fileData, position, length);\n",
              "      position += length;\n",
              "\n",
              "      const base64 = btoa(String.fromCharCode.apply(null, chunk));\n",
              "      yield {\n",
              "        response: {\n",
              "          action: 'append',\n",
              "          file: file.name,\n",
              "          data: base64,\n",
              "        },\n",
              "      };\n",
              "\n",
              "      let percentDone = fileData.byteLength === 0 ?\n",
              "          100 :\n",
              "          Math.round((position / fileData.byteLength) * 100);\n",
              "      percent.textContent = `${percentDone}% done`;\n",
              "\n",
              "    } while (position < fileData.byteLength);\n",
              "  }\n",
              "\n",
              "  // All done.\n",
              "  yield {\n",
              "    response: {\n",
              "      action: 'complete',\n",
              "    }\n",
              "  };\n",
              "}\n",
              "\n",
              "scope.google = scope.google || {};\n",
              "scope.google.colab = scope.google.colab || {};\n",
              "scope.google.colab._files = {\n",
              "  _uploadFiles,\n",
              "  _uploadFilesContinue,\n",
              "};\n",
              "})(self);\n",
              "</script> "
            ]
          },
          "metadata": {}
        },
        {
          "output_type": "stream",
          "name": "stdout",
          "text": [
            "Saving broadway.csv to broadway.csv\n"
          ]
        }
      ]
    },
    {
      "cell_type": "markdown",
      "source": [
        "This dataset holds reports of Broadway shows, grouped over weeklong periods.the dataset stretches the 1990s to 2016. The dataset is made available by the Broadway League (the national trade association for the Broadway industry), and you can view the data online at http://www.broadwayleague.com/.\n",
        "\n",
        "We will do some comparative analysis focusing on Attendance and Gross."
      ],
      "metadata": {
        "id": "lviJ7Z4haVDa"
      }
    },
    {
      "cell_type": "code",
      "source": [
        "import seaborn as sns\n",
        "import numpy as np\n",
        "import matplotlib.pyplot as plt\n",
        "import pandas as pd\n",
        "from itertools import cycle, islice\n",
        "import io\n",
        "\n",
        "df = pd.read_csv(io.BytesIO(uploaded['broadway.csv']))\n",
        "df.head(10)"
      ],
      "metadata": {
        "colab": {
          "base_uri": "https://localhost:8080/",
          "height": 363
        },
        "id": "Fb2yKcqfNImu",
        "outputId": "fdc74a47-f5b0-4728-c326-249d975598a5"
      },
      "execution_count": null,
      "outputs": [
        {
          "output_type": "execute_result",
          "data": {
            "text/plain": [
              "   Date.Day  Date.Full  Date.Month  Date.Year    Show.Name Show.Theatre  \\\n",
              "0        26  8/26/1990           8       1990          Tru        Booth   \n",
              "1        24  3/24/1991           3       1991  Miss Saigon     Broadway   \n",
              "2        31  3/31/1991           3       1991  Miss Saigon     Broadway   \n",
              "3         7   4/7/1991           4       1991  Miss Saigon     Broadway   \n",
              "4        14  4/14/1991           4       1991  Miss Saigon     Broadway   \n",
              "5        21  4/21/1991           4       1991  Miss Saigon     Broadway   \n",
              "6        28  4/28/1991           4       1991  Miss Saigon     Broadway   \n",
              "7         5   5/5/1991           5       1991  Miss Saigon     Broadway   \n",
              "8        12  5/12/1991           5       1991  Miss Saigon     Broadway   \n",
              "9        19  5/19/1991           5       1991  Miss Saigon     Broadway   \n",
              "\n",
              "  Show.Type  Statistics.Attendance  Statistics.Capacity  Statistics.Gross  \\\n",
              "0      Play                   5500                   88            134456   \n",
              "1   Musical                   1737                  100            100647   \n",
              "2   Musical                  12160                  100            634424   \n",
              "3   Musical                  13921                  100            713353   \n",
              "4   Musical                  10973                   90            573981   \n",
              "5   Musical                  14076                  101            706793   \n",
              "6   Musical                  14065                  101            714968   \n",
              "7   Musical                  14064                  101            730765   \n",
              "8   Musical                  13896                  100            766713   \n",
              "9   Musical                  13738                   99            763332   \n",
              "\n",
              "   Statistics.Gross Potential  Statistics.Performances  \n",
              "0                           0                        8  \n",
              "1                           0                        0  \n",
              "2                           0                        0  \n",
              "3                           0                        0  \n",
              "4                           0                        4  \n",
              "5                           0                        8  \n",
              "6                           0                        8  \n",
              "7                           0                        8  \n",
              "8                           0                        8  \n",
              "9                           0                        8  "
            ],
            "text/html": [
              "\n",
              "  <div id=\"df-5b45ed60-2052-469d-9081-e074d9b5c3f2\" class=\"colab-df-container\">\n",
              "    <div>\n",
              "<style scoped>\n",
              "    .dataframe tbody tr th:only-of-type {\n",
              "        vertical-align: middle;\n",
              "    }\n",
              "\n",
              "    .dataframe tbody tr th {\n",
              "        vertical-align: top;\n",
              "    }\n",
              "\n",
              "    .dataframe thead th {\n",
              "        text-align: right;\n",
              "    }\n",
              "</style>\n",
              "<table border=\"1\" class=\"dataframe\">\n",
              "  <thead>\n",
              "    <tr style=\"text-align: right;\">\n",
              "      <th></th>\n",
              "      <th>Date.Day</th>\n",
              "      <th>Date.Full</th>\n",
              "      <th>Date.Month</th>\n",
              "      <th>Date.Year</th>\n",
              "      <th>Show.Name</th>\n",
              "      <th>Show.Theatre</th>\n",
              "      <th>Show.Type</th>\n",
              "      <th>Statistics.Attendance</th>\n",
              "      <th>Statistics.Capacity</th>\n",
              "      <th>Statistics.Gross</th>\n",
              "      <th>Statistics.Gross Potential</th>\n",
              "      <th>Statistics.Performances</th>\n",
              "    </tr>\n",
              "  </thead>\n",
              "  <tbody>\n",
              "    <tr>\n",
              "      <th>0</th>\n",
              "      <td>26</td>\n",
              "      <td>8/26/1990</td>\n",
              "      <td>8</td>\n",
              "      <td>1990</td>\n",
              "      <td>Tru</td>\n",
              "      <td>Booth</td>\n",
              "      <td>Play</td>\n",
              "      <td>5500</td>\n",
              "      <td>88</td>\n",
              "      <td>134456</td>\n",
              "      <td>0</td>\n",
              "      <td>8</td>\n",
              "    </tr>\n",
              "    <tr>\n",
              "      <th>1</th>\n",
              "      <td>24</td>\n",
              "      <td>3/24/1991</td>\n",
              "      <td>3</td>\n",
              "      <td>1991</td>\n",
              "      <td>Miss Saigon</td>\n",
              "      <td>Broadway</td>\n",
              "      <td>Musical</td>\n",
              "      <td>1737</td>\n",
              "      <td>100</td>\n",
              "      <td>100647</td>\n",
              "      <td>0</td>\n",
              "      <td>0</td>\n",
              "    </tr>\n",
              "    <tr>\n",
              "      <th>2</th>\n",
              "      <td>31</td>\n",
              "      <td>3/31/1991</td>\n",
              "      <td>3</td>\n",
              "      <td>1991</td>\n",
              "      <td>Miss Saigon</td>\n",
              "      <td>Broadway</td>\n",
              "      <td>Musical</td>\n",
              "      <td>12160</td>\n",
              "      <td>100</td>\n",
              "      <td>634424</td>\n",
              "      <td>0</td>\n",
              "      <td>0</td>\n",
              "    </tr>\n",
              "    <tr>\n",
              "      <th>3</th>\n",
              "      <td>7</td>\n",
              "      <td>4/7/1991</td>\n",
              "      <td>4</td>\n",
              "      <td>1991</td>\n",
              "      <td>Miss Saigon</td>\n",
              "      <td>Broadway</td>\n",
              "      <td>Musical</td>\n",
              "      <td>13921</td>\n",
              "      <td>100</td>\n",
              "      <td>713353</td>\n",
              "      <td>0</td>\n",
              "      <td>0</td>\n",
              "    </tr>\n",
              "    <tr>\n",
              "      <th>4</th>\n",
              "      <td>14</td>\n",
              "      <td>4/14/1991</td>\n",
              "      <td>4</td>\n",
              "      <td>1991</td>\n",
              "      <td>Miss Saigon</td>\n",
              "      <td>Broadway</td>\n",
              "      <td>Musical</td>\n",
              "      <td>10973</td>\n",
              "      <td>90</td>\n",
              "      <td>573981</td>\n",
              "      <td>0</td>\n",
              "      <td>4</td>\n",
              "    </tr>\n",
              "    <tr>\n",
              "      <th>5</th>\n",
              "      <td>21</td>\n",
              "      <td>4/21/1991</td>\n",
              "      <td>4</td>\n",
              "      <td>1991</td>\n",
              "      <td>Miss Saigon</td>\n",
              "      <td>Broadway</td>\n",
              "      <td>Musical</td>\n",
              "      <td>14076</td>\n",
              "      <td>101</td>\n",
              "      <td>706793</td>\n",
              "      <td>0</td>\n",
              "      <td>8</td>\n",
              "    </tr>\n",
              "    <tr>\n",
              "      <th>6</th>\n",
              "      <td>28</td>\n",
              "      <td>4/28/1991</td>\n",
              "      <td>4</td>\n",
              "      <td>1991</td>\n",
              "      <td>Miss Saigon</td>\n",
              "      <td>Broadway</td>\n",
              "      <td>Musical</td>\n",
              "      <td>14065</td>\n",
              "      <td>101</td>\n",
              "      <td>714968</td>\n",
              "      <td>0</td>\n",
              "      <td>8</td>\n",
              "    </tr>\n",
              "    <tr>\n",
              "      <th>7</th>\n",
              "      <td>5</td>\n",
              "      <td>5/5/1991</td>\n",
              "      <td>5</td>\n",
              "      <td>1991</td>\n",
              "      <td>Miss Saigon</td>\n",
              "      <td>Broadway</td>\n",
              "      <td>Musical</td>\n",
              "      <td>14064</td>\n",
              "      <td>101</td>\n",
              "      <td>730765</td>\n",
              "      <td>0</td>\n",
              "      <td>8</td>\n",
              "    </tr>\n",
              "    <tr>\n",
              "      <th>8</th>\n",
              "      <td>12</td>\n",
              "      <td>5/12/1991</td>\n",
              "      <td>5</td>\n",
              "      <td>1991</td>\n",
              "      <td>Miss Saigon</td>\n",
              "      <td>Broadway</td>\n",
              "      <td>Musical</td>\n",
              "      <td>13896</td>\n",
              "      <td>100</td>\n",
              "      <td>766713</td>\n",
              "      <td>0</td>\n",
              "      <td>8</td>\n",
              "    </tr>\n",
              "    <tr>\n",
              "      <th>9</th>\n",
              "      <td>19</td>\n",
              "      <td>5/19/1991</td>\n",
              "      <td>5</td>\n",
              "      <td>1991</td>\n",
              "      <td>Miss Saigon</td>\n",
              "      <td>Broadway</td>\n",
              "      <td>Musical</td>\n",
              "      <td>13738</td>\n",
              "      <td>99</td>\n",
              "      <td>763332</td>\n",
              "      <td>0</td>\n",
              "      <td>8</td>\n",
              "    </tr>\n",
              "  </tbody>\n",
              "</table>\n",
              "</div>\n",
              "    <div class=\"colab-df-buttons\">\n",
              "\n",
              "  <div class=\"colab-df-container\">\n",
              "    <button class=\"colab-df-convert\" onclick=\"convertToInteractive('df-5b45ed60-2052-469d-9081-e074d9b5c3f2')\"\n",
              "            title=\"Convert this dataframe to an interactive table.\"\n",
              "            style=\"display:none;\">\n",
              "\n",
              "  <svg xmlns=\"http://www.w3.org/2000/svg\" height=\"24px\" viewBox=\"0 -960 960 960\">\n",
              "    <path d=\"M120-120v-720h720v720H120Zm60-500h600v-160H180v160Zm220 220h160v-160H400v160Zm0 220h160v-160H400v160ZM180-400h160v-160H180v160Zm440 0h160v-160H620v160ZM180-180h160v-160H180v160Zm440 0h160v-160H620v160Z\"/>\n",
              "  </svg>\n",
              "    </button>\n",
              "\n",
              "  <style>\n",
              "    .colab-df-container {\n",
              "      display:flex;\n",
              "      gap: 12px;\n",
              "    }\n",
              "\n",
              "    .colab-df-convert {\n",
              "      background-color: #E8F0FE;\n",
              "      border: none;\n",
              "      border-radius: 50%;\n",
              "      cursor: pointer;\n",
              "      display: none;\n",
              "      fill: #1967D2;\n",
              "      height: 32px;\n",
              "      padding: 0 0 0 0;\n",
              "      width: 32px;\n",
              "    }\n",
              "\n",
              "    .colab-df-convert:hover {\n",
              "      background-color: #E2EBFA;\n",
              "      box-shadow: 0px 1px 2px rgba(60, 64, 67, 0.3), 0px 1px 3px 1px rgba(60, 64, 67, 0.15);\n",
              "      fill: #174EA6;\n",
              "    }\n",
              "\n",
              "    .colab-df-buttons div {\n",
              "      margin-bottom: 4px;\n",
              "    }\n",
              "\n",
              "    [theme=dark] .colab-df-convert {\n",
              "      background-color: #3B4455;\n",
              "      fill: #D2E3FC;\n",
              "    }\n",
              "\n",
              "    [theme=dark] .colab-df-convert:hover {\n",
              "      background-color: #434B5C;\n",
              "      box-shadow: 0px 1px 3px 1px rgba(0, 0, 0, 0.15);\n",
              "      filter: drop-shadow(0px 1px 2px rgba(0, 0, 0, 0.3));\n",
              "      fill: #FFFFFF;\n",
              "    }\n",
              "  </style>\n",
              "\n",
              "    <script>\n",
              "      const buttonEl =\n",
              "        document.querySelector('#df-5b45ed60-2052-469d-9081-e074d9b5c3f2 button.colab-df-convert');\n",
              "      buttonEl.style.display =\n",
              "        google.colab.kernel.accessAllowed ? 'block' : 'none';\n",
              "\n",
              "      async function convertToInteractive(key) {\n",
              "        const element = document.querySelector('#df-5b45ed60-2052-469d-9081-e074d9b5c3f2');\n",
              "        const dataTable =\n",
              "          await google.colab.kernel.invokeFunction('convertToInteractive',\n",
              "                                                    [key], {});\n",
              "        if (!dataTable) return;\n",
              "\n",
              "        const docLinkHtml = 'Like what you see? Visit the ' +\n",
              "          '<a target=\"_blank\" href=https://colab.research.google.com/notebooks/data_table.ipynb>data table notebook</a>'\n",
              "          + ' to learn more about interactive tables.';\n",
              "        element.innerHTML = '';\n",
              "        dataTable['output_type'] = 'display_data';\n",
              "        await google.colab.output.renderOutput(dataTable, element);\n",
              "        const docLink = document.createElement('div');\n",
              "        docLink.innerHTML = docLinkHtml;\n",
              "        element.appendChild(docLink);\n",
              "      }\n",
              "    </script>\n",
              "  </div>\n",
              "\n",
              "\n",
              "<div id=\"df-2e466f15-9c88-4454-9e40-2d758667d3dc\">\n",
              "  <button class=\"colab-df-quickchart\" onclick=\"quickchart('df-2e466f15-9c88-4454-9e40-2d758667d3dc')\"\n",
              "            title=\"Suggest charts\"\n",
              "            style=\"display:none;\">\n",
              "\n",
              "<svg xmlns=\"http://www.w3.org/2000/svg\" height=\"24px\"viewBox=\"0 0 24 24\"\n",
              "     width=\"24px\">\n",
              "    <g>\n",
              "        <path d=\"M19 3H5c-1.1 0-2 .9-2 2v14c0 1.1.9 2 2 2h14c1.1 0 2-.9 2-2V5c0-1.1-.9-2-2-2zM9 17H7v-7h2v7zm4 0h-2V7h2v10zm4 0h-2v-4h2v4z\"/>\n",
              "    </g>\n",
              "</svg>\n",
              "  </button>\n",
              "\n",
              "<style>\n",
              "  .colab-df-quickchart {\n",
              "      --bg-color: #E8F0FE;\n",
              "      --fill-color: #1967D2;\n",
              "      --hover-bg-color: #E2EBFA;\n",
              "      --hover-fill-color: #174EA6;\n",
              "      --disabled-fill-color: #AAA;\n",
              "      --disabled-bg-color: #DDD;\n",
              "  }\n",
              "\n",
              "  [theme=dark] .colab-df-quickchart {\n",
              "      --bg-color: #3B4455;\n",
              "      --fill-color: #D2E3FC;\n",
              "      --hover-bg-color: #434B5C;\n",
              "      --hover-fill-color: #FFFFFF;\n",
              "      --disabled-bg-color: #3B4455;\n",
              "      --disabled-fill-color: #666;\n",
              "  }\n",
              "\n",
              "  .colab-df-quickchart {\n",
              "    background-color: var(--bg-color);\n",
              "    border: none;\n",
              "    border-radius: 50%;\n",
              "    cursor: pointer;\n",
              "    display: none;\n",
              "    fill: var(--fill-color);\n",
              "    height: 32px;\n",
              "    padding: 0;\n",
              "    width: 32px;\n",
              "  }\n",
              "\n",
              "  .colab-df-quickchart:hover {\n",
              "    background-color: var(--hover-bg-color);\n",
              "    box-shadow: 0 1px 2px rgba(60, 64, 67, 0.3), 0 1px 3px 1px rgba(60, 64, 67, 0.15);\n",
              "    fill: var(--button-hover-fill-color);\n",
              "  }\n",
              "\n",
              "  .colab-df-quickchart-complete:disabled,\n",
              "  .colab-df-quickchart-complete:disabled:hover {\n",
              "    background-color: var(--disabled-bg-color);\n",
              "    fill: var(--disabled-fill-color);\n",
              "    box-shadow: none;\n",
              "  }\n",
              "\n",
              "  .colab-df-spinner {\n",
              "    border: 2px solid var(--fill-color);\n",
              "    border-color: transparent;\n",
              "    border-bottom-color: var(--fill-color);\n",
              "    animation:\n",
              "      spin 1s steps(1) infinite;\n",
              "  }\n",
              "\n",
              "  @keyframes spin {\n",
              "    0% {\n",
              "      border-color: transparent;\n",
              "      border-bottom-color: var(--fill-color);\n",
              "      border-left-color: var(--fill-color);\n",
              "    }\n",
              "    20% {\n",
              "      border-color: transparent;\n",
              "      border-left-color: var(--fill-color);\n",
              "      border-top-color: var(--fill-color);\n",
              "    }\n",
              "    30% {\n",
              "      border-color: transparent;\n",
              "      border-left-color: var(--fill-color);\n",
              "      border-top-color: var(--fill-color);\n",
              "      border-right-color: var(--fill-color);\n",
              "    }\n",
              "    40% {\n",
              "      border-color: transparent;\n",
              "      border-right-color: var(--fill-color);\n",
              "      border-top-color: var(--fill-color);\n",
              "    }\n",
              "    60% {\n",
              "      border-color: transparent;\n",
              "      border-right-color: var(--fill-color);\n",
              "    }\n",
              "    80% {\n",
              "      border-color: transparent;\n",
              "      border-right-color: var(--fill-color);\n",
              "      border-bottom-color: var(--fill-color);\n",
              "    }\n",
              "    90% {\n",
              "      border-color: transparent;\n",
              "      border-bottom-color: var(--fill-color);\n",
              "    }\n",
              "  }\n",
              "</style>\n",
              "\n",
              "  <script>\n",
              "    async function quickchart(key) {\n",
              "      const quickchartButtonEl =\n",
              "        document.querySelector('#' + key + ' button');\n",
              "      quickchartButtonEl.disabled = true;  // To prevent multiple clicks.\n",
              "      quickchartButtonEl.classList.add('colab-df-spinner');\n",
              "      try {\n",
              "        const charts = await google.colab.kernel.invokeFunction(\n",
              "            'suggestCharts', [key], {});\n",
              "      } catch (error) {\n",
              "        console.error('Error during call to suggestCharts:', error);\n",
              "      }\n",
              "      quickchartButtonEl.classList.remove('colab-df-spinner');\n",
              "      quickchartButtonEl.classList.add('colab-df-quickchart-complete');\n",
              "    }\n",
              "    (() => {\n",
              "      let quickchartButtonEl =\n",
              "        document.querySelector('#df-2e466f15-9c88-4454-9e40-2d758667d3dc button');\n",
              "      quickchartButtonEl.style.display =\n",
              "        google.colab.kernel.accessAllowed ? 'block' : 'none';\n",
              "    })();\n",
              "  </script>\n",
              "</div>\n",
              "\n",
              "    </div>\n",
              "  </div>\n"
            ]
          },
          "metadata": {},
          "execution_count": 3
        }
      ]
    },
    {
      "cell_type": "code",
      "source": [
        "df.count()"
      ],
      "metadata": {
        "colab": {
          "base_uri": "https://localhost:8080/"
        },
        "id": "RO7Pf1vA7WON",
        "outputId": "04bcc49c-ecaf-43b1-efcd-d8c707d5632e"
      },
      "execution_count": null,
      "outputs": [
        {
          "output_type": "execute_result",
          "data": {
            "text/plain": [
              "Date.Day                      31296\n",
              "Date.Full                     31296\n",
              "Date.Month                    31296\n",
              "Date.Year                     31296\n",
              "Show.Name                     31296\n",
              "Show.Theatre                  31296\n",
              "Show.Type                     31296\n",
              "Statistics.Attendance         31296\n",
              "Statistics.Capacity           31296\n",
              "Statistics.Gross              31296\n",
              "Statistics.Gross Potential    31296\n",
              "Statistics.Performances       31296\n",
              "dtype: int64"
            ]
          },
          "metadata": {},
          "execution_count": 40
        }
      ]
    },
    {
      "cell_type": "code",
      "source": [
        "df.isnull().sum()"
      ],
      "metadata": {
        "colab": {
          "base_uri": "https://localhost:8080/"
        },
        "id": "cc9wFFY27YTt",
        "outputId": "8c3d91a6-3aff-4da5-f817-e5f12fd41ca1"
      },
      "execution_count": null,
      "outputs": [
        {
          "output_type": "execute_result",
          "data": {
            "text/plain": [
              "Date.Day                      0\n",
              "Date.Full                     0\n",
              "Date.Month                    0\n",
              "Date.Year                     0\n",
              "Show.Name                     0\n",
              "Show.Theatre                  0\n",
              "Show.Type                     0\n",
              "Statistics.Attendance         0\n",
              "Statistics.Capacity           0\n",
              "Statistics.Gross              0\n",
              "Statistics.Gross Potential    0\n",
              "Statistics.Performances       0\n",
              "dtype: int64"
            ]
          },
          "metadata": {},
          "execution_count": 41
        }
      ]
    },
    {
      "cell_type": "code",
      "source": [
        "df.duplicated().sum()"
      ],
      "metadata": {
        "colab": {
          "base_uri": "https://localhost:8080/"
        },
        "id": "YBvyou6e7cUl",
        "outputId": "115e47e2-df37-414f-fa6e-bf975bad762c"
      },
      "execution_count": null,
      "outputs": [
        {
          "output_type": "execute_result",
          "data": {
            "text/plain": [
              "0"
            ]
          },
          "metadata": {},
          "execution_count": 42
        }
      ]
    },
    {
      "cell_type": "code",
      "source": [
        "df[\"Date.Year\"].unique()"
      ],
      "metadata": {
        "colab": {
          "base_uri": "https://localhost:8080/"
        },
        "id": "WPhqFjas7efG",
        "outputId": "1c15072d-3bbf-4699-f18a-2141aefd3c50"
      },
      "execution_count": null,
      "outputs": [
        {
          "output_type": "execute_result",
          "data": {
            "text/plain": [
              "array([1990, 1991, 1992, 1993, 1994, 1995, 1996, 1997, 1998, 1999, 2000,\n",
              "       2001, 2002, 2003, 2004, 2005, 2006, 2007, 2008, 2009, 2010, 2011,\n",
              "       2012, 2013, 2014, 2015, 2016])"
            ]
          },
          "metadata": {},
          "execution_count": 43
        }
      ]
    },
    {
      "cell_type": "code",
      "source": [
        "df.drop(['Date.Day','Date.Full','Date.Month','Show.Theatre','Statistics.Capacity','Statistics.Gross Potential','Statistics.Performances'],inplace=True, axis=1)"
      ],
      "metadata": {
        "id": "xMIqAekCkiCN"
      },
      "execution_count": null,
      "outputs": []
    },
    {
      "cell_type": "code",
      "source": [
        "df.head()"
      ],
      "metadata": {
        "colab": {
          "base_uri": "https://localhost:8080/",
          "height": 206
        },
        "id": "CQKPKXhGkWa2",
        "outputId": "53f44434-b0e6-4f0f-b30d-91bf43b174b3"
      },
      "execution_count": null,
      "outputs": [
        {
          "output_type": "execute_result",
          "data": {
            "text/plain": [
              "   Date.Year    Show.Name Show.Type  Statistics.Attendance  Statistics.Gross\n",
              "0       1990          Tru      Play                   5500            134456\n",
              "1       1991  Miss Saigon   Musical                   1737            100647\n",
              "2       1991  Miss Saigon   Musical                  12160            634424\n",
              "3       1991  Miss Saigon   Musical                  13921            713353\n",
              "4       1991  Miss Saigon   Musical                  10973            573981"
            ],
            "text/html": [
              "\n",
              "  <div id=\"df-fe487a39-82a7-4c3d-8ca9-3e9a625692fe\" class=\"colab-df-container\">\n",
              "    <div>\n",
              "<style scoped>\n",
              "    .dataframe tbody tr th:only-of-type {\n",
              "        vertical-align: middle;\n",
              "    }\n",
              "\n",
              "    .dataframe tbody tr th {\n",
              "        vertical-align: top;\n",
              "    }\n",
              "\n",
              "    .dataframe thead th {\n",
              "        text-align: right;\n",
              "    }\n",
              "</style>\n",
              "<table border=\"1\" class=\"dataframe\">\n",
              "  <thead>\n",
              "    <tr style=\"text-align: right;\">\n",
              "      <th></th>\n",
              "      <th>Date.Year</th>\n",
              "      <th>Show.Name</th>\n",
              "      <th>Show.Type</th>\n",
              "      <th>Statistics.Attendance</th>\n",
              "      <th>Statistics.Gross</th>\n",
              "    </tr>\n",
              "  </thead>\n",
              "  <tbody>\n",
              "    <tr>\n",
              "      <th>0</th>\n",
              "      <td>1990</td>\n",
              "      <td>Tru</td>\n",
              "      <td>Play</td>\n",
              "      <td>5500</td>\n",
              "      <td>134456</td>\n",
              "    </tr>\n",
              "    <tr>\n",
              "      <th>1</th>\n",
              "      <td>1991</td>\n",
              "      <td>Miss Saigon</td>\n",
              "      <td>Musical</td>\n",
              "      <td>1737</td>\n",
              "      <td>100647</td>\n",
              "    </tr>\n",
              "    <tr>\n",
              "      <th>2</th>\n",
              "      <td>1991</td>\n",
              "      <td>Miss Saigon</td>\n",
              "      <td>Musical</td>\n",
              "      <td>12160</td>\n",
              "      <td>634424</td>\n",
              "    </tr>\n",
              "    <tr>\n",
              "      <th>3</th>\n",
              "      <td>1991</td>\n",
              "      <td>Miss Saigon</td>\n",
              "      <td>Musical</td>\n",
              "      <td>13921</td>\n",
              "      <td>713353</td>\n",
              "    </tr>\n",
              "    <tr>\n",
              "      <th>4</th>\n",
              "      <td>1991</td>\n",
              "      <td>Miss Saigon</td>\n",
              "      <td>Musical</td>\n",
              "      <td>10973</td>\n",
              "      <td>573981</td>\n",
              "    </tr>\n",
              "  </tbody>\n",
              "</table>\n",
              "</div>\n",
              "    <div class=\"colab-df-buttons\">\n",
              "\n",
              "  <div class=\"colab-df-container\">\n",
              "    <button class=\"colab-df-convert\" onclick=\"convertToInteractive('df-fe487a39-82a7-4c3d-8ca9-3e9a625692fe')\"\n",
              "            title=\"Convert this dataframe to an interactive table.\"\n",
              "            style=\"display:none;\">\n",
              "\n",
              "  <svg xmlns=\"http://www.w3.org/2000/svg\" height=\"24px\" viewBox=\"0 -960 960 960\">\n",
              "    <path d=\"M120-120v-720h720v720H120Zm60-500h600v-160H180v160Zm220 220h160v-160H400v160Zm0 220h160v-160H400v160ZM180-400h160v-160H180v160Zm440 0h160v-160H620v160ZM180-180h160v-160H180v160Zm440 0h160v-160H620v160Z\"/>\n",
              "  </svg>\n",
              "    </button>\n",
              "\n",
              "  <style>\n",
              "    .colab-df-container {\n",
              "      display:flex;\n",
              "      gap: 12px;\n",
              "    }\n",
              "\n",
              "    .colab-df-convert {\n",
              "      background-color: #E8F0FE;\n",
              "      border: none;\n",
              "      border-radius: 50%;\n",
              "      cursor: pointer;\n",
              "      display: none;\n",
              "      fill: #1967D2;\n",
              "      height: 32px;\n",
              "      padding: 0 0 0 0;\n",
              "      width: 32px;\n",
              "    }\n",
              "\n",
              "    .colab-df-convert:hover {\n",
              "      background-color: #E2EBFA;\n",
              "      box-shadow: 0px 1px 2px rgba(60, 64, 67, 0.3), 0px 1px 3px 1px rgba(60, 64, 67, 0.15);\n",
              "      fill: #174EA6;\n",
              "    }\n",
              "\n",
              "    .colab-df-buttons div {\n",
              "      margin-bottom: 4px;\n",
              "    }\n",
              "\n",
              "    [theme=dark] .colab-df-convert {\n",
              "      background-color: #3B4455;\n",
              "      fill: #D2E3FC;\n",
              "    }\n",
              "\n",
              "    [theme=dark] .colab-df-convert:hover {\n",
              "      background-color: #434B5C;\n",
              "      box-shadow: 0px 1px 3px 1px rgba(0, 0, 0, 0.15);\n",
              "      filter: drop-shadow(0px 1px 2px rgba(0, 0, 0, 0.3));\n",
              "      fill: #FFFFFF;\n",
              "    }\n",
              "  </style>\n",
              "\n",
              "    <script>\n",
              "      const buttonEl =\n",
              "        document.querySelector('#df-fe487a39-82a7-4c3d-8ca9-3e9a625692fe button.colab-df-convert');\n",
              "      buttonEl.style.display =\n",
              "        google.colab.kernel.accessAllowed ? 'block' : 'none';\n",
              "\n",
              "      async function convertToInteractive(key) {\n",
              "        const element = document.querySelector('#df-fe487a39-82a7-4c3d-8ca9-3e9a625692fe');\n",
              "        const dataTable =\n",
              "          await google.colab.kernel.invokeFunction('convertToInteractive',\n",
              "                                                    [key], {});\n",
              "        if (!dataTable) return;\n",
              "\n",
              "        const docLinkHtml = 'Like what you see? Visit the ' +\n",
              "          '<a target=\"_blank\" href=https://colab.research.google.com/notebooks/data_table.ipynb>data table notebook</a>'\n",
              "          + ' to learn more about interactive tables.';\n",
              "        element.innerHTML = '';\n",
              "        dataTable['output_type'] = 'display_data';\n",
              "        await google.colab.output.renderOutput(dataTable, element);\n",
              "        const docLink = document.createElement('div');\n",
              "        docLink.innerHTML = docLinkHtml;\n",
              "        element.appendChild(docLink);\n",
              "      }\n",
              "    </script>\n",
              "  </div>\n",
              "\n",
              "\n",
              "<div id=\"df-40e9014d-d55c-4404-81ac-56d1e05e3d67\">\n",
              "  <button class=\"colab-df-quickchart\" onclick=\"quickchart('df-40e9014d-d55c-4404-81ac-56d1e05e3d67')\"\n",
              "            title=\"Suggest charts\"\n",
              "            style=\"display:none;\">\n",
              "\n",
              "<svg xmlns=\"http://www.w3.org/2000/svg\" height=\"24px\"viewBox=\"0 0 24 24\"\n",
              "     width=\"24px\">\n",
              "    <g>\n",
              "        <path d=\"M19 3H5c-1.1 0-2 .9-2 2v14c0 1.1.9 2 2 2h14c1.1 0 2-.9 2-2V5c0-1.1-.9-2-2-2zM9 17H7v-7h2v7zm4 0h-2V7h2v10zm4 0h-2v-4h2v4z\"/>\n",
              "    </g>\n",
              "</svg>\n",
              "  </button>\n",
              "\n",
              "<style>\n",
              "  .colab-df-quickchart {\n",
              "      --bg-color: #E8F0FE;\n",
              "      --fill-color: #1967D2;\n",
              "      --hover-bg-color: #E2EBFA;\n",
              "      --hover-fill-color: #174EA6;\n",
              "      --disabled-fill-color: #AAA;\n",
              "      --disabled-bg-color: #DDD;\n",
              "  }\n",
              "\n",
              "  [theme=dark] .colab-df-quickchart {\n",
              "      --bg-color: #3B4455;\n",
              "      --fill-color: #D2E3FC;\n",
              "      --hover-bg-color: #434B5C;\n",
              "      --hover-fill-color: #FFFFFF;\n",
              "      --disabled-bg-color: #3B4455;\n",
              "      --disabled-fill-color: #666;\n",
              "  }\n",
              "\n",
              "  .colab-df-quickchart {\n",
              "    background-color: var(--bg-color);\n",
              "    border: none;\n",
              "    border-radius: 50%;\n",
              "    cursor: pointer;\n",
              "    display: none;\n",
              "    fill: var(--fill-color);\n",
              "    height: 32px;\n",
              "    padding: 0;\n",
              "    width: 32px;\n",
              "  }\n",
              "\n",
              "  .colab-df-quickchart:hover {\n",
              "    background-color: var(--hover-bg-color);\n",
              "    box-shadow: 0 1px 2px rgba(60, 64, 67, 0.3), 0 1px 3px 1px rgba(60, 64, 67, 0.15);\n",
              "    fill: var(--button-hover-fill-color);\n",
              "  }\n",
              "\n",
              "  .colab-df-quickchart-complete:disabled,\n",
              "  .colab-df-quickchart-complete:disabled:hover {\n",
              "    background-color: var(--disabled-bg-color);\n",
              "    fill: var(--disabled-fill-color);\n",
              "    box-shadow: none;\n",
              "  }\n",
              "\n",
              "  .colab-df-spinner {\n",
              "    border: 2px solid var(--fill-color);\n",
              "    border-color: transparent;\n",
              "    border-bottom-color: var(--fill-color);\n",
              "    animation:\n",
              "      spin 1s steps(1) infinite;\n",
              "  }\n",
              "\n",
              "  @keyframes spin {\n",
              "    0% {\n",
              "      border-color: transparent;\n",
              "      border-bottom-color: var(--fill-color);\n",
              "      border-left-color: var(--fill-color);\n",
              "    }\n",
              "    20% {\n",
              "      border-color: transparent;\n",
              "      border-left-color: var(--fill-color);\n",
              "      border-top-color: var(--fill-color);\n",
              "    }\n",
              "    30% {\n",
              "      border-color: transparent;\n",
              "      border-left-color: var(--fill-color);\n",
              "      border-top-color: var(--fill-color);\n",
              "      border-right-color: var(--fill-color);\n",
              "    }\n",
              "    40% {\n",
              "      border-color: transparent;\n",
              "      border-right-color: var(--fill-color);\n",
              "      border-top-color: var(--fill-color);\n",
              "    }\n",
              "    60% {\n",
              "      border-color: transparent;\n",
              "      border-right-color: var(--fill-color);\n",
              "    }\n",
              "    80% {\n",
              "      border-color: transparent;\n",
              "      border-right-color: var(--fill-color);\n",
              "      border-bottom-color: var(--fill-color);\n",
              "    }\n",
              "    90% {\n",
              "      border-color: transparent;\n",
              "      border-bottom-color: var(--fill-color);\n",
              "    }\n",
              "  }\n",
              "</style>\n",
              "\n",
              "  <script>\n",
              "    async function quickchart(key) {\n",
              "      const quickchartButtonEl =\n",
              "        document.querySelector('#' + key + ' button');\n",
              "      quickchartButtonEl.disabled = true;  // To prevent multiple clicks.\n",
              "      quickchartButtonEl.classList.add('colab-df-spinner');\n",
              "      try {\n",
              "        const charts = await google.colab.kernel.invokeFunction(\n",
              "            'suggestCharts', [key], {});\n",
              "      } catch (error) {\n",
              "        console.error('Error during call to suggestCharts:', error);\n",
              "      }\n",
              "      quickchartButtonEl.classList.remove('colab-df-spinner');\n",
              "      quickchartButtonEl.classList.add('colab-df-quickchart-complete');\n",
              "    }\n",
              "    (() => {\n",
              "      let quickchartButtonEl =\n",
              "        document.querySelector('#df-40e9014d-d55c-4404-81ac-56d1e05e3d67 button');\n",
              "      quickchartButtonEl.style.display =\n",
              "        google.colab.kernel.accessAllowed ? 'block' : 'none';\n",
              "    })();\n",
              "  </script>\n",
              "</div>\n",
              "\n",
              "    </div>\n",
              "  </div>\n"
            ]
          },
          "metadata": {},
          "execution_count": 52
        }
      ]
    },
    {
      "cell_type": "code",
      "source": [
        "#A look at the attendance over the years\n",
        "df.groupby(['Date.Year'])['Statistics.Attendance'].sum()"
      ],
      "metadata": {
        "colab": {
          "base_uri": "https://localhost:8080/"
        },
        "id": "B_PuPHSo7l3O",
        "outputId": "d91994a3-2484-4c6f-8b23-e10676e4a9a3"
      },
      "execution_count": null,
      "outputs": [
        {
          "output_type": "execute_result",
          "data": {
            "text/plain": [
              "Date.Year\n",
              "1990        5500\n",
              "1991      559179\n",
              "1992      856809\n",
              "1993     1038747\n",
              "1994     1774391\n",
              "1995     3982285\n",
              "1996     7448692\n",
              "1997    10557122\n",
              "1998    11618305\n",
              "1999    11505206\n",
              "2000    12252863\n",
              "2001    11382440\n",
              "2002    11394477\n",
              "2003    11081183\n",
              "2004    11329926\n",
              "2005    11975625\n",
              "2006    12274805\n",
              "2007    12126711\n",
              "2008    12850231\n",
              "2009    11680764\n",
              "2010    12098765\n",
              "2011    12127171\n",
              "2012    12473907\n",
              "2013    11575941\n",
              "2014    13125306\n",
              "2015    12976878\n",
              "2016     8624099\n",
              "Name: Statistics.Attendance, dtype: int64"
            ]
          },
          "metadata": {},
          "execution_count": 44
        }
      ]
    },
    {
      "cell_type": "code",
      "source": [
        "\n",
        "df.groupby(['Date.Year'])['Statistics.Attendance'].sum().plot(kind='line',title='Broadway attendance over the years',xlabel='Years',ylabel='Attendance')"
      ],
      "metadata": {
        "colab": {
          "base_uri": "https://localhost:8080/",
          "height": 489
        },
        "id": "DbyzTLke7vyO",
        "outputId": "09b08e5a-41c1-4ef7-e7eb-9d51b2c3ef04"
      },
      "execution_count": null,
      "outputs": [
        {
          "output_type": "execute_result",
          "data": {
            "text/plain": [
              "<Axes: title={'center': 'Broadway attendance over the years'}, xlabel='Years', ylabel='Attendance'>"
            ]
          },
          "metadata": {},
          "execution_count": 24
        },
        {
          "output_type": "display_data",
          "data": {
            "text/plain": [
              "<Figure size 640x480 with 1 Axes>"
            ],
            "image/png": "[encoded data removed]"
          },
          "metadata": {}
        }
      ]
    },
    {
      "cell_type": "code",
      "source": [
        "#A look at the gross Revenue over the years\n",
        "df.groupby(['Date.Year'])['Statistics.Gross'].sum()"
      ],
      "metadata": {
        "colab": {
          "base_uri": "https://localhost:8080/"
        },
        "id": "AzJmQLyj-m3d",
        "outputId": "3cb7ba1e-cda4-429b-ebdd-f3fe0d7a3d84"
      },
      "execution_count": null,
      "outputs": [
        {
          "output_type": "execute_result",
          "data": {
            "text/plain": [
              "Date.Year\n",
              "1990        134456\n",
              "1991      30665673\n",
              "1992      42262582\n",
              "1993      46171494\n",
              "1994      83518661\n",
              "1995     197856030\n",
              "1996     351762607\n",
              "1997     506095272\n",
              "1998     576194584\n",
              "1999     588202096\n",
              "2000     678334768\n",
              "2001     643802427\n",
              "2002     706243486\n",
              "2003     724662867\n",
              "2004     748856045\n",
              "2005     825189740\n",
              "2006     934493487\n",
              "2007     927333504\n",
              "2008     985446068\n",
              "2009     969559631\n",
              "2010    1036268428\n",
              "2011    1080657836\n",
              "2012    1195400385\n",
              "2013    1192039179\n",
              "2014    1360510811\n",
              "2015    1353143674\n",
              "2016     869763802\n",
              "Name: Statistics.Gross, dtype: int64"
            ]
          },
          "metadata": {},
          "execution_count": 9
        }
      ]
    },
    {
      "cell_type": "code",
      "source": [
        "#A look at the Gross revenue over the years\n",
        "df.groupby(['Date.Year'])['Statistics.Gross'].sum().plot(kind='line',title='Broadway revenue over the years',xlabel='Years',ylabel='Revenue')"
      ],
      "metadata": {
        "colab": {
          "base_uri": "https://localhost:8080/",
          "height": 489
        },
        "id": "xmH85-HA70sn",
        "outputId": "07ece429-6894-4153-d68a-0b0025e71ab4"
      },
      "execution_count": null,
      "outputs": [
        {
          "output_type": "execute_result",
          "data": {
            "text/plain": [
              "<Axes: title={'center': 'Broadway revenue over the years'}, xlabel='Years', ylabel='Revenue'>"
            ]
          },
          "metadata": {},
          "execution_count": 26
        },
        {
          "output_type": "display_data",
          "data": {
            "text/plain": [
              "<Figure size 640x480 with 1 Axes>"
            ],
            "image/png": "[encoded data removed]"
          },
          "metadata": {}
        }
      ]
    },
    {
      "cell_type": "code",
      "source": [
        "#A look at the Gross revenue for Plays only over the years\n",
        "df_Play=df[df['Show.Type'].str.contains('Play')]\n",
        "df_Play.groupby(['Date.Year'])['Statistics.Gross'].sum()"
      ],
      "metadata": {
        "colab": {
          "base_uri": "https://localhost:8080/"
        },
        "id": "6gkSOOor8HT3",
        "outputId": "52a776cb-2752-4509-b478-41df070a5718"
      },
      "execution_count": null,
      "outputs": [
        {
          "output_type": "execute_result",
          "data": {
            "text/plain": [
              "Date.Year\n",
              "1990       134456\n",
              "1992      5947347\n",
              "1993     13881777\n",
              "1994      7121377\n",
              "1995     26018035\n",
              "1996     51918162\n",
              "1997     52759584\n",
              "1998     82071233\n",
              "1999     88126118\n",
              "2000     94819289\n",
              "2001    105042201\n",
              "2002    127853193\n",
              "2003     88802740\n",
              "2004     86531490\n",
              "2005    136059853\n",
              "2006    112533124\n",
              "2007     97269949\n",
              "2008    150569296\n",
              "2009    161686176\n",
              "2010    135378827\n",
              "2011    175408894\n",
              "2012    212503069\n",
              "2013    185176833\n",
              "2014    213930241\n",
              "2015    230404143\n",
              "2016     96037954\n",
              "Name: Statistics.Gross, dtype: int64"
            ]
          },
          "metadata": {},
          "execution_count": 14
        }
      ]
    },
    {
      "cell_type": "code",
      "source": [
        "df_Play.groupby(['Date.Year'])['Statistics.Gross'].sum().plot(kind='line',title='Plays revenue over the years',xlabel='Years',ylabel='Revenue')"
      ],
      "metadata": {
        "colab": {
          "base_uri": "https://localhost:8080/",
          "height": 489
        },
        "id": "A4lP1qpg8XJH",
        "outputId": "5fab9e33-abc7-4316-8212-b5d0241a18a9"
      },
      "execution_count": null,
      "outputs": [
        {
          "output_type": "execute_result",
          "data": {
            "text/plain": [
              "<Axes: title={'center': 'Plays revenue over the years'}, xlabel='Years', ylabel='Revenue'>"
            ]
          },
          "metadata": {},
          "execution_count": 27
        },
        {
          "output_type": "display_data",
          "data": {
            "text/plain": [
              "<Figure size 640x480 with 1 Axes>"
            ],
            "image/png": "[encoded data removed]"
          },
          "metadata": {}
        }
      ]
    },
    {
      "cell_type": "code",
      "source": [
        "#A look at the Gross revenue for Musicals only over the years\n",
        "df_Musical=df[df['Show.Type'].str.contains('Musical')]\n",
        "df_Musical.groupby(['Date.Year'])['Statistics.Gross'].sum()"
      ],
      "metadata": {
        "colab": {
          "base_uri": "https://localhost:8080/"
        },
        "id": "4f5eRGIp8dr5",
        "outputId": "85540781-2b48-458c-ee8e-f2a2e1bc1b9e"
      },
      "execution_count": null,
      "outputs": [
        {
          "output_type": "execute_result",
          "data": {
            "text/plain": [
              "Date.Year\n",
              "1991      30665673\n",
              "1992      36315235\n",
              "1993      32289717\n",
              "1994      76237284\n",
              "1995     171643239\n",
              "1996     293476296\n",
              "1997     444099366\n",
              "1998     482579823\n",
              "1999     497363590\n",
              "2000     582159957\n",
              "2001     538721007\n",
              "2002     575511330\n",
              "2003     634995789\n",
              "2004     661598221\n",
              "2005     688849407\n",
              "2006     821960363\n",
              "2007     830063555\n",
              "2008     826166290\n",
              "2009     798973962\n",
              "2010     895857354\n",
              "2011     888850814\n",
              "2012     974945237\n",
              "2013     993570449\n",
              "2014    1140640907\n",
              "2015    1104151044\n",
              "2016     771054184\n",
              "Name: Statistics.Gross, dtype: int64"
            ]
          },
          "metadata": {},
          "execution_count": 17
        }
      ]
    },
    {
      "cell_type": "code",
      "source": [
        "df_Musical.groupby(['Date.Year'])['Statistics.Gross'].sum().plot(kind='line',title='Musicals revenue over the years',xlabel='Years',ylabel='Revenue')"
      ],
      "metadata": {
        "colab": {
          "base_uri": "https://localhost:8080/",
          "height": 489
        },
        "id": "wnq4fAOq8mQX",
        "outputId": "eeb59b49-d869-476d-b177-9d1b8f4eae93"
      },
      "execution_count": null,
      "outputs": [
        {
          "output_type": "execute_result",
          "data": {
            "text/plain": [
              "<Axes: title={'center': 'Musicals revenue over the years'}, xlabel='Years', ylabel='Revenue'>"
            ]
          },
          "metadata": {},
          "execution_count": 28
        },
        {
          "output_type": "display_data",
          "data": {
            "text/plain": [
              "<Figure size 640x480 with 1 Axes>"
            ],
            "image/png": "[encoded data removed]"
          },
          "metadata": {}
        }
      ]
    },
    {
      "cell_type": "code",
      "source": [
        "#Top 10 most running shows over the years\n",
        "df.groupby(['Show.Name'])['Date.Year'].count().sort_values(ascending=False).head(10)"
      ],
      "metadata": {
        "colab": {
          "base_uri": "https://localhost:8080/"
        },
        "id": "g1jhypwB8wJg",
        "outputId": "106e1d89-7829-4f4b-b0b4-17eb39d2bd84"
      },
      "execution_count": null,
      "outputs": [
        {
          "output_type": "execute_result",
          "data": {
            "text/plain": [
              "Show.Name\n",
              "The Phantom Of The Opera    1053\n",
              "Chicago                     1032\n",
              "The Lion King                980\n",
              "Mamma Mia!                   725\n",
              "Beauty And The Beast         690\n",
              "Wicked                       669\n",
              "Rent                         639\n",
              "Jersey Boys                  565\n",
              "Miss Saigon                  489\n",
              "Les Miserables               365\n",
              "Name: Date.Year, dtype: int64"
            ]
          },
          "metadata": {},
          "execution_count": 15
        }
      ]
    },
    {
      "cell_type": "code",
      "source": [
        "##Top 10 most running Plays over the years\n",
        "df_Play_Year=df[df['Show.Type'].str.contains('Play')]\n",
        "df_Play_Year.groupby(['Show.Name'])['Date.Year'].count().sort_values(ascending=False).head(10)"
      ],
      "metadata": {
        "colab": {
          "base_uri": "https://localhost:8080/"
        },
        "id": "GZSFiZlK8x3H",
        "outputId": "132153f7-2d62-4a77-c571-171d2becd2ca"
      },
      "execution_count": null,
      "outputs": [
        {
          "output_type": "execute_result",
          "data": {
            "text/plain": [
              "Show.Name\n",
              "Proof                                                117\n",
              "The Tale Of The Allergist'S Wife                     101\n",
              "The Curious Incident Of The Dog In The Night-Time    101\n",
              "The 39 Steps                                         100\n",
              "War Horse                                             95\n",
              "August: Osage County                                  84\n",
              "Art                                                   78\n",
              "Defending The Caveman                                 77\n",
              "The Last Night Of Ballyhoo                            73\n",
              "The Sisters Rosensweig                                72\n",
              "Name: Date.Year, dtype: int64"
            ]
          },
          "metadata": {},
          "execution_count": 16
        }
      ]
    },
    {
      "cell_type": "code",
      "source": [
        "#Top 10 longest running Musicals over the years\n",
        "df_Musical_Year=df[df['Show.Type'].str.contains('Musical')]\n",
        "df_Musical_Year.groupby(['Show.Name'])['Date.Year'].count().sort_values(ascending=False).head(10)"
      ],
      "metadata": {
        "colab": {
          "base_uri": "https://localhost:8080/"
        },
        "id": "IQu5BdOs9Jjb",
        "outputId": "74b7af1a-1f7b-4f18-d62c-52495666f09b"
      },
      "execution_count": null,
      "outputs": [
        {
          "output_type": "execute_result",
          "data": {
            "text/plain": [
              "Show.Name\n",
              "The Phantom Of The Opera    1053\n",
              "Chicago                     1032\n",
              "The Lion King                980\n",
              "Mamma Mia!                   725\n",
              "Beauty And The Beast         690\n",
              "Wicked                       669\n",
              "Rent                         639\n",
              "Jersey Boys                  565\n",
              "Miss Saigon                  489\n",
              "Les Miserables               365\n",
              "Name: Date.Year, dtype: int64"
            ]
          },
          "metadata": {},
          "execution_count": 19
        }
      ]
    },
    {
      "cell_type": "code",
      "source": [
        "df_Musical_Year.groupby(['Show.Name'])['Date.Year'].count().sort_values(ascending=False).head(10).plot(kind='bar',title='Longest running Musicals over the years')"
      ],
      "metadata": {
        "colab": {
          "base_uri": "https://localhost:8080/",
          "height": 664
        },
        "id": "coXexAebc26v",
        "outputId": "1a546a23-f919-4e91-fcf6-bee444b4e0a5"
      },
      "execution_count": null,
      "outputs": [
        {
          "output_type": "execute_result",
          "data": {
            "text/plain": [
              "<Axes: title={'center': 'Longest running Musicals over the years'}, xlabel='Show.Name'>"
            ]
          },
          "metadata": {},
          "execution_count": 21
        },
        {
          "output_type": "display_data",
          "data": {
            "text/plain": [
              "<Figure size 640x480 with 1 Axes>"
            ],
            "image/png": "[encoded data removed]"
          },
          "metadata": {}
        }
      ]
    },
    {
      "cell_type": "code",
      "source": [
        "#Gross revenue of the top 10 Musicals\n",
        "df_Musical_Year.groupby(['Show.Name'])['Statistics.Gross'].sum().sort_values(ascending=False).head(10)"
      ],
      "metadata": {
        "colab": {
          "base_uri": "https://localhost:8080/"
        },
        "id": "lbnTdWDS9Qeb",
        "outputId": "8100a62d-06e1-47e2-f23d-d172a4af842d"
      },
      "execution_count": null,
      "outputs": [
        {
          "output_type": "execute_result",
          "data": {
            "text/plain": [
              "Show.Name\n",
              "The Lion King               1289388835\n",
              "Wicked                      1039921344\n",
              "The Phantom Of The Opera     790512187\n",
              "Mamma Mia!                   624391693\n",
              "Chicago                      560575239\n",
              "Jersey Boys                  538533258\n",
              "The Book Of Mormon           437403089\n",
              "Beauty And The Beast         429158458\n",
              "Mary Poppins                 294558648\n",
              "The Producers                288361724\n",
              "Name: Statistics.Gross, dtype: int64"
            ]
          },
          "metadata": {},
          "execution_count": 18
        }
      ]
    },
    {
      "cell_type": "code",
      "source": [
        "df_Musical_Year.groupby(['Show.Name'])['Statistics.Gross'].sum().sort_values(ascending=False).head(10).plot(kind='bar',title='Revenue of the top 10 Musicals',xlabel='Musicals',ylabel='Revenue')"
      ],
      "metadata": {
        "colab": {
          "base_uri": "https://localhost:8080/",
          "height": 664
        },
        "id": "6C2FY0T-9eEt",
        "outputId": "c3cc120d-bb5b-4cbb-d01a-74aa30e21126"
      },
      "execution_count": null,
      "outputs": [
        {
          "output_type": "execute_result",
          "data": {
            "text/plain": [
              "<Axes: title={'center': 'Revenue of the top 10 Musicals'}, xlabel='Musicals', ylabel='Revenue'>"
            ]
          },
          "metadata": {},
          "execution_count": 29
        },
        {
          "output_type": "display_data",
          "data": {
            "text/plain": [
              "<Figure size 640x480 with 1 Axes>"
            ],
            "image/png": "[encoded data removed]"
          },
          "metadata": {}
        }
      ]
    },
    {
      "cell_type": "markdown",
      "source": [
        "**Conclusion**\n",
        "\n",
        "We noticed that the attendance for Broadway shows kept increasing from 1990 till 1997 and then became more stable but the Gross profit kept increasing through out the years\n",
        "\n",
        "Musicals tend to making more profit then Plays and they run for a longer time\n",
        "\n",
        "The longest running shows from 1990 till 2016 are Musicals with THE PAHNTON OF THE OPERA on top of the list followed by CHICAGO and The Lion KING\n",
        "\n",
        "But the most profitable show over the years is THE LION KING followed by WICKED then THE PAHNTON OF THE OPERA"
      ],
      "metadata": {
        "id": "mkCUj-0Ogw5K"
      }
    },
    {
      "cell_type": "code",
      "source": [],
      "metadata": {
        "id": "c2dlh3li9EOo"
      },
      "execution_count": null,
      "outputs": []
    }
  ]
}